{
 "cells": [
  {
   "cell_type": "code",
   "execution_count": 1,
   "metadata": {},
   "outputs": [],
   "source": [
    "import pandas as pd"
   ]
  },
  {
   "cell_type": "code",
   "execution_count": 3,
   "metadata": {},
   "outputs": [],
   "source": [
    "import matplotlib.pyplot as plt"
   ]
  },
  {
   "cell_type": "code",
   "execution_count": 4,
   "metadata": {},
   "outputs": [],
   "source": [
    "import seaborn as sns\n",
    "sns.set()"
   ]
  },
  {
   "cell_type": "code",
   "execution_count": 7,
   "metadata": {},
   "outputs": [],
   "source": [
    "df = pd.read_csv('C:/Users/ohian/Downloads/exploring_stock_price_returns/exploring_stock_price_returns/data/stock_prices.csv')"
   ]
  },
  {
   "cell_type": "code",
   "execution_count": 8,
   "metadata": {},
   "outputs": [
    {
     "data": {
      "text/html": [
       "<div>\n",
       "<style scoped>\n",
       "    .dataframe tbody tr th:only-of-type {\n",
       "        vertical-align: middle;\n",
       "    }\n",
       "\n",
       "    .dataframe tbody tr th {\n",
       "        vertical-align: top;\n",
       "    }\n",
       "\n",
       "    .dataframe thead th {\n",
       "        text-align: right;\n",
       "    }\n",
       "</style>\n",
       "<table border=\"1\" class=\"dataframe\">\n",
       "  <thead>\n",
       "    <tr style=\"text-align: right;\">\n",
       "      <th></th>\n",
       "      <th>ticker</th>\n",
       "      <th>date</th>\n",
       "      <th>price</th>\n",
       "    </tr>\n",
       "  </thead>\n",
       "  <tbody>\n",
       "    <tr>\n",
       "      <th>0</th>\n",
       "      <td>CNP</td>\n",
       "      <td>2005-01-03</td>\n",
       "      <td>8.4000</td>\n",
       "    </tr>\n",
       "    <tr>\n",
       "      <th>1</th>\n",
       "      <td>CNP</td>\n",
       "      <td>2005-01-04</td>\n",
       "      <td>8.3168</td>\n",
       "    </tr>\n",
       "    <tr>\n",
       "      <th>2</th>\n",
       "      <td>CNP</td>\n",
       "      <td>2005-01-05</td>\n",
       "      <td>8.1662</td>\n",
       "    </tr>\n",
       "    <tr>\n",
       "      <th>3</th>\n",
       "      <td>CNP</td>\n",
       "      <td>2005-01-06</td>\n",
       "      <td>8.1730</td>\n",
       "    </tr>\n",
       "    <tr>\n",
       "      <th>4</th>\n",
       "      <td>CNP</td>\n",
       "      <td>2005-01-07</td>\n",
       "      <td>8.1277</td>\n",
       "    </tr>\n",
       "  </tbody>\n",
       "</table>\n",
       "</div>"
      ],
      "text/plain": [
       "  ticker        date   price\n",
       "0    CNP  2005-01-03  8.4000\n",
       "1    CNP  2005-01-04  8.3168\n",
       "2    CNP  2005-01-05  8.1662\n",
       "3    CNP  2005-01-06  8.1730\n",
       "4    CNP  2005-01-07  8.1277"
      ]
     },
     "execution_count": 8,
     "metadata": {},
     "output_type": "execute_result"
    }
   ],
   "source": [
    "df.head()"
   ]
  },
  {
   "cell_type": "code",
   "execution_count": 9,
   "metadata": {},
   "outputs": [
    {
     "data": {
      "text/html": [
       "<div>\n",
       "<style scoped>\n",
       "    .dataframe tbody tr th:only-of-type {\n",
       "        vertical-align: middle;\n",
       "    }\n",
       "\n",
       "    .dataframe tbody tr th {\n",
       "        vertical-align: top;\n",
       "    }\n",
       "\n",
       "    .dataframe thead th {\n",
       "        text-align: right;\n",
       "    }\n",
       "</style>\n",
       "<table border=\"1\" class=\"dataframe\">\n",
       "  <thead>\n",
       "    <tr style=\"text-align: right;\">\n",
       "      <th></th>\n",
       "      <th>ticker</th>\n",
       "      <th>date</th>\n",
       "      <th>price</th>\n",
       "    </tr>\n",
       "  </thead>\n",
       "  <tbody>\n",
       "    <tr>\n",
       "      <th>320656</th>\n",
       "      <td>HPQ</td>\n",
       "      <td>2017-11-06</td>\n",
       "      <td>21.44</td>\n",
       "    </tr>\n",
       "    <tr>\n",
       "      <th>320657</th>\n",
       "      <td>HPQ</td>\n",
       "      <td>2017-11-07</td>\n",
       "      <td>21.38</td>\n",
       "    </tr>\n",
       "    <tr>\n",
       "      <th>320658</th>\n",
       "      <td>HPQ</td>\n",
       "      <td>2017-11-08</td>\n",
       "      <td>21.42</td>\n",
       "    </tr>\n",
       "    <tr>\n",
       "      <th>320659</th>\n",
       "      <td>HPQ</td>\n",
       "      <td>2017-11-09</td>\n",
       "      <td>21.34</td>\n",
       "    </tr>\n",
       "    <tr>\n",
       "      <th>320660</th>\n",
       "      <td>HPQ</td>\n",
       "      <td>2017-11-10</td>\n",
       "      <td>21.23</td>\n",
       "    </tr>\n",
       "  </tbody>\n",
       "</table>\n",
       "</div>"
      ],
      "text/plain": [
       "       ticker        date  price\n",
       "320656    HPQ  2017-11-06  21.44\n",
       "320657    HPQ  2017-11-07  21.38\n",
       "320658    HPQ  2017-11-08  21.42\n",
       "320659    HPQ  2017-11-09  21.34\n",
       "320660    HPQ  2017-11-10  21.23"
      ]
     },
     "execution_count": 9,
     "metadata": {},
     "output_type": "execute_result"
    }
   ],
   "source": [
    "df.tail()"
   ]
  },
  {
   "cell_type": "code",
   "execution_count": 10,
   "metadata": {},
   "outputs": [
    {
     "data": {
      "text/plain": [
       "99"
      ]
     },
     "execution_count": 10,
     "metadata": {},
     "output_type": "execute_result"
    }
   ],
   "source": [
    "df['ticker'].nunique()"
   ]
  },
  {
   "cell_type": "code",
   "execution_count": 11,
   "metadata": {},
   "outputs": [
    {
     "data": {
      "text/plain": [
       "'2005-01-03'"
      ]
     },
     "execution_count": 11,
     "metadata": {},
     "output_type": "execute_result"
    }
   ],
   "source": [
    "df['date'][0]"
   ]
  },
  {
   "cell_type": "code",
   "execution_count": 12,
   "metadata": {},
   "outputs": [
    {
     "data": {
      "text/plain": [
       "str"
      ]
     },
     "execution_count": 12,
     "metadata": {},
     "output_type": "execute_result"
    }
   ],
   "source": [
    "type(df['date'][0])"
   ]
  },
  {
   "cell_type": "code",
   "execution_count": 13,
   "metadata": {},
   "outputs": [],
   "source": [
    "df['date'] = pd.to_datetime(df['date'], format = '%Y-%m-%d')"
   ]
  },
  {
   "cell_type": "code",
   "execution_count": 14,
   "metadata": {},
   "outputs": [
    {
     "data": {
      "text/plain": [
       "Timestamp('2005-01-03 00:00:00')"
      ]
     },
     "execution_count": 14,
     "metadata": {},
     "output_type": "execute_result"
    }
   ],
   "source": [
    "df['date'][0]"
   ]
  },
  {
   "cell_type": "code",
   "execution_count": 15,
   "metadata": {},
   "outputs": [
    {
     "data": {
      "text/plain": [
       "pandas._libs.tslibs.timestamps.Timestamp"
      ]
     },
     "execution_count": 15,
     "metadata": {},
     "output_type": "execute_result"
    }
   ],
   "source": [
    "type(df['date'][0])"
   ]
  },
  {
   "cell_type": "code",
   "execution_count": 16,
   "metadata": {},
   "outputs": [
    {
     "name": "stderr",
     "output_type": "stream",
     "text": [
      "<ipython-input-16-07e98f8ab9f6>:1: FutureWarning: Treating datetime data as categorical rather than numeric in `.describe` is deprecated and will be removed in a future version of pandas. Specify `datetime_is_numeric=True` to silence this warning and adopt the future behavior now.\n",
      "  df['date'].describe()\n"
     ]
    },
    {
     "data": {
      "text/plain": [
       "count                  320661\n",
       "unique                   3239\n",
       "top       2009-05-29 00:00:00\n",
       "freq                       99\n",
       "first     2005-01-03 00:00:00\n",
       "last      2017-11-10 00:00:00\n",
       "Name: date, dtype: object"
      ]
     },
     "execution_count": 16,
     "metadata": {},
     "output_type": "execute_result"
    }
   ],
   "source": [
    "df['date'].describe()"
   ]
  },
  {
   "cell_type": "code",
   "execution_count": 18,
   "metadata": {},
   "outputs": [],
   "source": [
    "df['returns'] = df.groupby('ticker')['price'].pct_change(1)"
   ]
  },
  {
   "cell_type": "code",
   "execution_count": 19,
   "metadata": {},
   "outputs": [
    {
     "data": {
      "text/html": [
       "<div>\n",
       "<style scoped>\n",
       "    .dataframe tbody tr th:only-of-type {\n",
       "        vertical-align: middle;\n",
       "    }\n",
       "\n",
       "    .dataframe tbody tr th {\n",
       "        vertical-align: top;\n",
       "    }\n",
       "\n",
       "    .dataframe thead th {\n",
       "        text-align: right;\n",
       "    }\n",
       "</style>\n",
       "<table border=\"1\" class=\"dataframe\">\n",
       "  <thead>\n",
       "    <tr style=\"text-align: right;\">\n",
       "      <th></th>\n",
       "      <th>ticker</th>\n",
       "      <th>date</th>\n",
       "      <th>price</th>\n",
       "      <th>returns</th>\n",
       "    </tr>\n",
       "  </thead>\n",
       "  <tbody>\n",
       "    <tr>\n",
       "      <th>0</th>\n",
       "      <td>CNP</td>\n",
       "      <td>2005-01-03</td>\n",
       "      <td>8.4000</td>\n",
       "      <td>NaN</td>\n",
       "    </tr>\n",
       "    <tr>\n",
       "      <th>1</th>\n",
       "      <td>CNP</td>\n",
       "      <td>2005-01-04</td>\n",
       "      <td>8.3168</td>\n",
       "      <td>-0.009905</td>\n",
       "    </tr>\n",
       "    <tr>\n",
       "      <th>2</th>\n",
       "      <td>CNP</td>\n",
       "      <td>2005-01-05</td>\n",
       "      <td>8.1662</td>\n",
       "      <td>-0.018108</td>\n",
       "    </tr>\n",
       "    <tr>\n",
       "      <th>3</th>\n",
       "      <td>CNP</td>\n",
       "      <td>2005-01-06</td>\n",
       "      <td>8.1730</td>\n",
       "      <td>0.000833</td>\n",
       "    </tr>\n",
       "    <tr>\n",
       "      <th>4</th>\n",
       "      <td>CNP</td>\n",
       "      <td>2005-01-07</td>\n",
       "      <td>8.1277</td>\n",
       "      <td>-0.005543</td>\n",
       "    </tr>\n",
       "  </tbody>\n",
       "</table>\n",
       "</div>"
      ],
      "text/plain": [
       "  ticker       date   price   returns\n",
       "0    CNP 2005-01-03  8.4000       NaN\n",
       "1    CNP 2005-01-04  8.3168 -0.009905\n",
       "2    CNP 2005-01-05  8.1662 -0.018108\n",
       "3    CNP 2005-01-06  8.1730  0.000833\n",
       "4    CNP 2005-01-07  8.1277 -0.005543"
      ]
     },
     "execution_count": 19,
     "metadata": {},
     "output_type": "execute_result"
    }
   ],
   "source": [
    "df.head()"
   ]
  },
  {
   "cell_type": "code",
   "execution_count": 23,
   "metadata": {},
   "outputs": [
    {
     "data": {
      "text/html": [
       "<div>\n",
       "<style scoped>\n",
       "    .dataframe tbody tr th:only-of-type {\n",
       "        vertical-align: middle;\n",
       "    }\n",
       "\n",
       "    .dataframe tbody tr th {\n",
       "        vertical-align: top;\n",
       "    }\n",
       "\n",
       "    .dataframe thead th {\n",
       "        text-align: right;\n",
       "    }\n",
       "</style>\n",
       "<table border=\"1\" class=\"dataframe\">\n",
       "  <thead>\n",
       "    <tr style=\"text-align: right;\">\n",
       "      <th></th>\n",
       "      <th>ticker</th>\n",
       "      <th>date</th>\n",
       "      <th>price</th>\n",
       "      <th>returns</th>\n",
       "    </tr>\n",
       "  </thead>\n",
       "  <tbody>\n",
       "    <tr>\n",
       "      <th>3234</th>\n",
       "      <td>CNP</td>\n",
       "      <td>2017-11-06</td>\n",
       "      <td>29.720</td>\n",
       "      <td>0.004393</td>\n",
       "    </tr>\n",
       "    <tr>\n",
       "      <th>3235</th>\n",
       "      <td>CNP</td>\n",
       "      <td>2017-11-07</td>\n",
       "      <td>29.950</td>\n",
       "      <td>0.007739</td>\n",
       "    </tr>\n",
       "    <tr>\n",
       "      <th>3236</th>\n",
       "      <td>CNP</td>\n",
       "      <td>2017-11-08</td>\n",
       "      <td>29.950</td>\n",
       "      <td>0.000000</td>\n",
       "    </tr>\n",
       "    <tr>\n",
       "      <th>3237</th>\n",
       "      <td>CNP</td>\n",
       "      <td>2017-11-09</td>\n",
       "      <td>29.810</td>\n",
       "      <td>-0.004674</td>\n",
       "    </tr>\n",
       "    <tr>\n",
       "      <th>3238</th>\n",
       "      <td>CNP</td>\n",
       "      <td>2017-11-10</td>\n",
       "      <td>29.410</td>\n",
       "      <td>-0.013418</td>\n",
       "    </tr>\n",
       "    <tr>\n",
       "      <th>3239</th>\n",
       "      <td>CLX</td>\n",
       "      <td>2005-01-03</td>\n",
       "      <td>47.794</td>\n",
       "      <td>NaN</td>\n",
       "    </tr>\n",
       "    <tr>\n",
       "      <th>3240</th>\n",
       "      <td>CLX</td>\n",
       "      <td>2005-01-04</td>\n",
       "      <td>47.293</td>\n",
       "      <td>-0.010482</td>\n",
       "    </tr>\n",
       "    <tr>\n",
       "      <th>3241</th>\n",
       "      <td>CLX</td>\n",
       "      <td>2005-01-05</td>\n",
       "      <td>47.054</td>\n",
       "      <td>-0.005054</td>\n",
       "    </tr>\n",
       "    <tr>\n",
       "      <th>3242</th>\n",
       "      <td>CLX</td>\n",
       "      <td>2005-01-06</td>\n",
       "      <td>47.474</td>\n",
       "      <td>0.008926</td>\n",
       "    </tr>\n",
       "    <tr>\n",
       "      <th>3243</th>\n",
       "      <td>CLX</td>\n",
       "      <td>2005-01-07</td>\n",
       "      <td>47.873</td>\n",
       "      <td>0.008405</td>\n",
       "    </tr>\n",
       "    <tr>\n",
       "      <th>3244</th>\n",
       "      <td>CLX</td>\n",
       "      <td>2005-01-10</td>\n",
       "      <td>47.785</td>\n",
       "      <td>-0.001838</td>\n",
       "    </tr>\n",
       "    <tr>\n",
       "      <th>3245</th>\n",
       "      <td>CLX</td>\n",
       "      <td>2005-01-11</td>\n",
       "      <td>47.785</td>\n",
       "      <td>0.000000</td>\n",
       "    </tr>\n",
       "    <tr>\n",
       "      <th>3246</th>\n",
       "      <td>CLX</td>\n",
       "      <td>2005-01-12</td>\n",
       "      <td>48.063</td>\n",
       "      <td>0.005818</td>\n",
       "    </tr>\n",
       "    <tr>\n",
       "      <th>3247</th>\n",
       "      <td>CLX</td>\n",
       "      <td>2005-01-13</td>\n",
       "      <td>47.595</td>\n",
       "      <td>-0.009737</td>\n",
       "    </tr>\n",
       "    <tr>\n",
       "      <th>3248</th>\n",
       "      <td>CLX</td>\n",
       "      <td>2005-01-14</td>\n",
       "      <td>47.950</td>\n",
       "      <td>0.007459</td>\n",
       "    </tr>\n",
       "    <tr>\n",
       "      <th>3249</th>\n",
       "      <td>CLX</td>\n",
       "      <td>2005-01-18</td>\n",
       "      <td>48.389</td>\n",
       "      <td>0.009155</td>\n",
       "    </tr>\n",
       "    <tr>\n",
       "      <th>3250</th>\n",
       "      <td>CLX</td>\n",
       "      <td>2005-01-19</td>\n",
       "      <td>48.472</td>\n",
       "      <td>0.001715</td>\n",
       "    </tr>\n",
       "  </tbody>\n",
       "</table>\n",
       "</div>"
      ],
      "text/plain": [
       "     ticker       date   price   returns\n",
       "3234    CNP 2017-11-06  29.720  0.004393\n",
       "3235    CNP 2017-11-07  29.950  0.007739\n",
       "3236    CNP 2017-11-08  29.950  0.000000\n",
       "3237    CNP 2017-11-09  29.810 -0.004674\n",
       "3238    CNP 2017-11-10  29.410 -0.013418\n",
       "3239    CLX 2005-01-03  47.794       NaN\n",
       "3240    CLX 2005-01-04  47.293 -0.010482\n",
       "3241    CLX 2005-01-05  47.054 -0.005054\n",
       "3242    CLX 2005-01-06  47.474  0.008926\n",
       "3243    CLX 2005-01-07  47.873  0.008405\n",
       "3244    CLX 2005-01-10  47.785 -0.001838\n",
       "3245    CLX 2005-01-11  47.785  0.000000\n",
       "3246    CLX 2005-01-12  48.063  0.005818\n",
       "3247    CLX 2005-01-13  47.595 -0.009737\n",
       "3248    CLX 2005-01-14  47.950  0.007459\n",
       "3249    CLX 2005-01-18  48.389  0.009155\n",
       "3250    CLX 2005-01-19  48.472  0.001715"
      ]
     },
     "execution_count": 23,
     "metadata": {},
     "output_type": "execute_result"
    }
   ],
   "source": [
    "df.iloc[3234:3251]"
   ]
  },
  {
   "cell_type": "code",
   "execution_count": 24,
   "metadata": {},
   "outputs": [
    {
     "data": {
      "text/html": [
       "<div>\n",
       "<style scoped>\n",
       "    .dataframe tbody tr th:only-of-type {\n",
       "        vertical-align: middle;\n",
       "    }\n",
       "\n",
       "    .dataframe tbody tr th {\n",
       "        vertical-align: top;\n",
       "    }\n",
       "\n",
       "    .dataframe thead th {\n",
       "        text-align: right;\n",
       "    }\n",
       "</style>\n",
       "<table border=\"1\" class=\"dataframe\">\n",
       "  <thead>\n",
       "    <tr style=\"text-align: right;\">\n",
       "      <th></th>\n",
       "      <th>count</th>\n",
       "      <th>mean</th>\n",
       "      <th>std</th>\n",
       "      <th>min</th>\n",
       "      <th>25%</th>\n",
       "      <th>50%</th>\n",
       "      <th>75%</th>\n",
       "      <th>max</th>\n",
       "    </tr>\n",
       "    <tr>\n",
       "      <th>ticker</th>\n",
       "      <th></th>\n",
       "      <th></th>\n",
       "      <th></th>\n",
       "      <th></th>\n",
       "      <th></th>\n",
       "      <th></th>\n",
       "      <th></th>\n",
       "      <th></th>\n",
       "    </tr>\n",
       "  </thead>\n",
       "  <tbody>\n",
       "    <tr>\n",
       "      <th>A</th>\n",
       "      <td>3238.0</td>\n",
       "      <td>0.000636</td>\n",
       "      <td>0.019859</td>\n",
       "      <td>-0.110166</td>\n",
       "      <td>-0.008437</td>\n",
       "      <td>0.000763</td>\n",
       "      <td>0.010311</td>\n",
       "      <td>0.148435</td>\n",
       "    </tr>\n",
       "    <tr>\n",
       "      <th>ADBE</th>\n",
       "      <td>3238.0</td>\n",
       "      <td>0.000763</td>\n",
       "      <td>0.020776</td>\n",
       "      <td>-0.190346</td>\n",
       "      <td>-0.008654</td>\n",
       "      <td>0.000676</td>\n",
       "      <td>0.010372</td>\n",
       "      <td>0.143581</td>\n",
       "    </tr>\n",
       "    <tr>\n",
       "      <th>AES</th>\n",
       "      <td>3238.0</td>\n",
       "      <td>0.000228</td>\n",
       "      <td>0.023373</td>\n",
       "      <td>-0.157206</td>\n",
       "      <td>-0.010418</td>\n",
       "      <td>0.000477</td>\n",
       "      <td>0.010958</td>\n",
       "      <td>0.282877</td>\n",
       "    </tr>\n",
       "    <tr>\n",
       "      <th>AKAM</th>\n",
       "      <td>3201.0</td>\n",
       "      <td>0.000918</td>\n",
       "      <td>0.029074</td>\n",
       "      <td>-0.253120</td>\n",
       "      <td>-0.011140</td>\n",
       "      <td>0.000463</td>\n",
       "      <td>0.013407</td>\n",
       "      <td>0.240354</td>\n",
       "    </tr>\n",
       "    <tr>\n",
       "      <th>ALK</th>\n",
       "      <td>3201.0</td>\n",
       "      <td>0.001077</td>\n",
       "      <td>0.028163</td>\n",
       "      <td>-0.185932</td>\n",
       "      <td>-0.012498</td>\n",
       "      <td>0.000849</td>\n",
       "      <td>0.014608</td>\n",
       "      <td>0.312808</td>\n",
       "    </tr>\n",
       "    <tr>\n",
       "      <th>...</th>\n",
       "      <td>...</td>\n",
       "      <td>...</td>\n",
       "      <td>...</td>\n",
       "      <td>...</td>\n",
       "      <td>...</td>\n",
       "      <td>...</td>\n",
       "      <td>...</td>\n",
       "      <td>...</td>\n",
       "    </tr>\n",
       "    <tr>\n",
       "      <th>VIAB</th>\n",
       "      <td>1494.0</td>\n",
       "      <td>-0.000082</td>\n",
       "      <td>0.018713</td>\n",
       "      <td>-0.214829</td>\n",
       "      <td>-0.008356</td>\n",
       "      <td>0.000521</td>\n",
       "      <td>0.009426</td>\n",
       "      <td>0.138521</td>\n",
       "    </tr>\n",
       "    <tr>\n",
       "      <th>VZ</th>\n",
       "      <td>3238.0</td>\n",
       "      <td>0.000215</td>\n",
       "      <td>0.013150</td>\n",
       "      <td>-0.080788</td>\n",
       "      <td>-0.006447</td>\n",
       "      <td>0.000290</td>\n",
       "      <td>0.006883</td>\n",
       "      <td>0.146435</td>\n",
       "    </tr>\n",
       "    <tr>\n",
       "      <th>WCG</th>\n",
       "      <td>3201.0</td>\n",
       "      <td>0.001231</td>\n",
       "      <td>0.033712</td>\n",
       "      <td>-0.629504</td>\n",
       "      <td>-0.011004</td>\n",
       "      <td>0.001294</td>\n",
       "      <td>0.014254</td>\n",
       "      <td>0.240164</td>\n",
       "    </tr>\n",
       "    <tr>\n",
       "      <th>WFC</th>\n",
       "      <td>3238.0</td>\n",
       "      <td>0.000588</td>\n",
       "      <td>0.027199</td>\n",
       "      <td>-0.238233</td>\n",
       "      <td>-0.008001</td>\n",
       "      <td>0.000000</td>\n",
       "      <td>0.008076</td>\n",
       "      <td>0.327508</td>\n",
       "    </tr>\n",
       "    <tr>\n",
       "      <th>ZTS</th>\n",
       "      <td>1204.0</td>\n",
       "      <td>0.000800</td>\n",
       "      <td>0.014358</td>\n",
       "      <td>-0.122060</td>\n",
       "      <td>-0.006467</td>\n",
       "      <td>0.000442</td>\n",
       "      <td>0.007434</td>\n",
       "      <td>0.114041</td>\n",
       "    </tr>\n",
       "  </tbody>\n",
       "</table>\n",
       "<p>99 rows × 8 columns</p>\n",
       "</div>"
      ],
      "text/plain": [
       "         count      mean       std       min       25%       50%       75%  \\\n",
       "ticker                                                                       \n",
       "A       3238.0  0.000636  0.019859 -0.110166 -0.008437  0.000763  0.010311   \n",
       "ADBE    3238.0  0.000763  0.020776 -0.190346 -0.008654  0.000676  0.010372   \n",
       "AES     3238.0  0.000228  0.023373 -0.157206 -0.010418  0.000477  0.010958   \n",
       "AKAM    3201.0  0.000918  0.029074 -0.253120 -0.011140  0.000463  0.013407   \n",
       "ALK     3201.0  0.001077  0.028163 -0.185932 -0.012498  0.000849  0.014608   \n",
       "...        ...       ...       ...       ...       ...       ...       ...   \n",
       "VIAB    1494.0 -0.000082  0.018713 -0.214829 -0.008356  0.000521  0.009426   \n",
       "VZ      3238.0  0.000215  0.013150 -0.080788 -0.006447  0.000290  0.006883   \n",
       "WCG     3201.0  0.001231  0.033712 -0.629504 -0.011004  0.001294  0.014254   \n",
       "WFC     3238.0  0.000588  0.027199 -0.238233 -0.008001  0.000000  0.008076   \n",
       "ZTS     1204.0  0.000800  0.014358 -0.122060 -0.006467  0.000442  0.007434   \n",
       "\n",
       "             max  \n",
       "ticker            \n",
       "A       0.148435  \n",
       "ADBE    0.143581  \n",
       "AES     0.282877  \n",
       "AKAM    0.240354  \n",
       "ALK     0.312808  \n",
       "...          ...  \n",
       "VIAB    0.138521  \n",
       "VZ      0.146435  \n",
       "WCG     0.240164  \n",
       "WFC     0.327508  \n",
       "ZTS     0.114041  \n",
       "\n",
       "[99 rows x 8 columns]"
      ]
     },
     "execution_count": 24,
     "metadata": {},
     "output_type": "execute_result"
    }
   ],
   "source": [
    "df.groupby('ticker')['returns'].describe()"
   ]
  },
  {
   "cell_type": "code",
   "execution_count": 25,
   "metadata": {},
   "outputs": [
    {
     "data": {
      "text/plain": [
       "99.3053865224251"
      ]
     },
     "execution_count": 25,
     "metadata": {},
     "output_type": "execute_result"
    }
   ],
   "source": [
    "df.groupby('ticker')['returns'].max().max()"
   ]
  },
  {
   "cell_type": "code",
   "execution_count": 26,
   "metadata": {},
   "outputs": [
    {
     "data": {
      "text/plain": [
       "<AxesSubplot:>"
      ]
     },
     "execution_count": 26,
     "metadata": {},
     "output_type": "execute_result"
    },
    {
     "data": {
      "image/png": "[encoded data removed]",
      "text/plain": [
       "<Figure size 864x576 with 1 Axes>"
      ]
     },
     "metadata": {},
     "output_type": "display_data"
    }
   ],
   "source": [
    "df[df['ticker'] == 'CNP']['returns'].plot(figsize = (12,8))"
   ]
  },
  {
   "cell_type": "code",
   "execution_count": 27,
   "metadata": {},
   "outputs": [
    {
     "data": {
      "text/plain": [
       "<AxesSubplot:>"
      ]
     },
     "execution_count": 27,
     "metadata": {},
     "output_type": "execute_result"
    },
    {
     "data": {
      "image/png": "[encoded data removed]",
      "text/plain": [
       "<Figure size 864x576 with 1 Axes>"
      ]
     },
     "metadata": {},
     "output_type": "display_data"
    }
   ],
   "source": [
    "df[df['ticker'] == 'AKAM']['returns'].plot(figsize = (12,8))"
   ]
  },
  {
   "cell_type": "code",
   "execution_count": null,
   "metadata": {},
   "outputs": [],
   "source": []
  }
 ],
 "metadata": {
  "kernelspec": {
   "display_name": "Python 3",
   "language": "python",
   "name": "python3"
  },
  "language_info": {
   "codemirror_mode": {
    "name": "ipython",
    "version": 3
   },
   "file_extension": ".py",
   "mimetype": "text/x-python",
   "name": "python",
   "nbconvert_exporter": "python",
   "pygments_lexer": "ipython3",
   "version": "3.8.5"
  }
 },
 "nbformat": 4,
 "nbformat_minor": 4
}
